{
 "cells": [
  {
   "cell_type": "code",
   "execution_count": 10,
   "metadata": {},
   "outputs": [],
   "source": [
    "import pandas_datareader as web\n",
    "import datetime\n",
    "import numpy as np\n",
    "import pandas as pd\n",
    "import glob, os\n",
    "g_list = [r'data/3_months/*_3m_adj_data.csv', r'data/3_months/*_3m_c_data.csv', r'data/3_months/*_3m_pc_data.csv']\n",
    "for gfn in g_list:\n",
    "    tmp_list = glob.glob(gfn)\n",
    "    for filename in tmp_list:\n",
    "        t_name = os.path.basename(filename).replace(gfn.replace(\"data/3_months/*\", \"\"), \"\")\n",
    "        tmp = pd.read_csv(filename, parse_dates=True, index_col=['Unnamed: 0'], engine='python')\n",
    "        tmp = tmp.loc[:, ~tmp.columns.str.contains('^Unnamed')]\n",
    "        os.remove(filename)\n",
    "        tmp.to_csv(r'data/3_months/{}_r75_{}'.format(t_name, gfn.replace(\"data/3_months/*_3m_\", \"\")))"
   ]
  },
  {
   "cell_type": "code",
   "execution_count": null,
   "metadata": {},
   "outputs": [],
   "source": []
  }
 ],
 "metadata": {
  "kernelspec": {
   "display_name": "Python 3",
   "language": "python",
   "name": "python3"
  },
  "language_info": {
   "codemirror_mode": {
    "name": "ipython",
    "version": 3
   },
   "file_extension": ".py",
   "mimetype": "text/x-python",
   "name": "python",
   "nbconvert_exporter": "python",
   "pygments_lexer": "ipython3",
   "version": "3.8.3"
  }
 },
 "nbformat": 4,
 "nbformat_minor": 4
}

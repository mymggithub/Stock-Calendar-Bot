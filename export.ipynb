{
 "cells": [
  {
   "cell_type": "code",
   "execution_count": 1,
   "metadata": {},
   "outputs": [],
   "source": [
    "import pandas_datareader as web\n",
    "import datetime\n",
    "import numpy as np\n",
    "import pandas as pd"
   ]
  },
  {
   "cell_type": "code",
   "execution_count": 2,
   "metadata": {},
   "outputs": [],
   "source": [
    "# merge parts\n",
    "import glob\n",
    "tmp_list = glob.glob(r'stock_list*.csv')\n",
    "tmp_list_dfs = []\n",
    "for filename in tmp_list:\n",
    "    if filename == \"stock_list.csv\" or filename == \"stock_list2.csv\" or filename == \"stock_list3.csv\" or filename == \"stock_list4.csv\" or filename == \"stock_list5.csv\":\n",
    "        tmp = pd.read_csv(filename, engine='python')\n",
    "        tmp = tmp.loc[:, ~tmp.columns.str.contains('^Unnamed')]\n",
    "        tmp = tmp[tmp.adj_up_start_schedule_r_60.notnull()]\n",
    "        tmp_list_dfs.append(tmp)\n",
    "    \n",
    "tmpall = pd.concat(tmp_list_dfs)\n",
    "tmpall.drop_duplicates(subset =\"symbol\", keep=\"first\", inplace=True)#subset =\"symbol\", keep=\"first\", \n",
    "tmpall.to_csv(r'temp.csv')"
   ]
  },
  {
   "cell_type": "code",
   "execution_count": 8,
   "metadata": {},
   "outputs": [],
   "source": [
    "# seperate good list from the bad\n",
    "a = \"stock_list\"\n",
    "b = \"w\"\n",
    "t = pd.read_csv(r'{} - {}.csv'.format(a, b), engine='python')\n",
    "t = t.loc[:, ~t.columns.str.contains('^Unnamed')]\n",
    "# t = t.sort_values(['ups', 'avg'], t=[False, False])\n",
    "# t.to_csv(r'{}.csv'.format(r'{} - {}.csv'.format(a, b)))\n",
    "t[t.ignore == False].to_csv(r'saved/good/stock_good_list - {}.csv'.format(b), index=False)\n",
    "t[t.ignore_error.notnull()].to_csv(r'saved/error/stock_err_list - {}.csv'.format(b), index=False)"
   ]
  },
  {
   "cell_type": "code",
   "execution_count": 3,
   "metadata": {},
   "outputs": [],
   "source": [
    "# create main list\n",
    "import glob\n",
    "good_list = glob.glob(r'saved/good/*.csv')\n",
    "good_list_dfs = []\n",
    "for filename in good_list:\n",
    "    tmp = pd.read_csv(filename, engine='python')\n",
    "    tmp = tmp.loc[:, ~tmp.columns.str.contains('^Unnamed')]\n",
    "    good_list_dfs.append(tmp)\n",
    "    \n",
    "main_list = pd.concat(good_list_dfs)\n",
    "main_list.drop_duplicates(subset =\"symbol\", keep=\"first\", inplace=True)\n",
    "# main_list.sort_values(['close_up_start_schedule', 'close_up_percent_avg'], ascending=[True, False], inplace=True)\n",
    "main_list.to_csv(r'main_stock_list.csv')"
   ]
  },
  {
   "cell_type": "code",
   "execution_count": 52,
   "metadata": {},
   "outputs": [],
   "source": [
    "# update missing col in good list\n",
    "tmp = pd.read_csv(r'saved/main/main_stock_list.csv', engine='python', index_col=['symbol'])\n",
    "tmp = tmp.loc[:, ~tmp.columns.str.contains('^Unnamed')]\n",
    "tmp\n",
    "\n",
    "tmp2 = pd.read_csv(r'saved/good/stock_good_list - c.csv', engine='python', index_col=['symbol'])\n",
    "tmp2 = tmp2.loc[:, ~tmp2.columns.str.contains('^Unnamed')]\n",
    "tmp2\n",
    "for i, row in tmp2.iterrows():\n",
    "#     tmp2.at[i, tmp.index] = tmp.loc[i]\n",
    "    try:\n",
    "        tmp2.at[i, \"close_ups\"] = tmp.loc[i][\"close_ups\"]\n",
    "        tmp2.at[i, \"close_downs\"] = tmp.loc[i][\"close_downs\"]\n",
    "        tmp2.at[i, \"close_up_start_schedule\"] = tmp.loc[i][\"close_up_start_schedule\"]\n",
    "        tmp2.at[i, \"close_up_end_schedule\"] = tmp.loc[i][\"close_up_end_schedule\"]\n",
    "        tmp2.at[i, \"close_up_percent_avg\"] = tmp.loc[i][\"close_up_percent_avg\"]\n",
    "    except:\n",
    "        pass\n",
    "    \n",
    "tmp2.to_csv(r'saved/good/stock_good_list - c.csv')"
   ]
  },
  {
   "cell_type": "code",
   "execution_count": null,
   "metadata": {},
   "outputs": [],
   "source": []
  }
 ],
 "metadata": {
  "kernelspec": {
   "display_name": "Python 3",
   "language": "python",
   "name": "python3"
  },
  "language_info": {
   "codemirror_mode": {
    "name": "ipython",
    "version": 3
   },
   "file_extension": ".py",
   "mimetype": "text/x-python",
   "name": "python",
   "nbconvert_exporter": "python",
   "pygments_lexer": "ipython3",
   "version": "3.8.3"
  }
 },
 "nbformat": 4,
 "nbformat_minor": 4
}
